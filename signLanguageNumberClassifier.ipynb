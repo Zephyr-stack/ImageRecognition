{
 "cells": [
  {
   "cell_type": "code",
   "execution_count": 1,
   "metadata": {},
   "outputs": [],
   "source": [
    "#importing relevant packages\n",
    "import tensorflow as tf\n",
    "from tensorflow import keras\n",
    "import numpy as np\n",
    "from tensorflow.keras.layers import Activation,Dense,Conv2D,MaxPool2D,Flatten,BatchNormalization\n",
    "from tensorflow.keras.optimizers import Adam\n",
    "from tensorflow.keras.metrics import categorical_crossentropy\n",
    "from sklearn.metrics import confusion_matrix\n",
    "from tensorflow.keras.models import Sequential\n",
    "from tensorflow.keras.preprocessing.image import ImageDataGenerator"
   ]
  },
  {
   "cell_type": "code",
   "execution_count": 2,
   "metadata": {},
   "outputs": [],
   "source": [
    "# establishing the directories from which the data has to be fetched\n",
    "# the directories have already been partitioned into train,valid and testing\n",
    "train_path='/Users/sarthak/Desktop/Important/Machine learning/data/sign-lang/train'\n",
    "valid_path='/Users/sarthak/Desktop/Important/Machine learning/data/sign-lang/valid'\n",
    "test_path='/Users/sarthak/Desktop/Important/Machine learning/data/sign-lang/test'"
   ]
  },
  {
   "cell_type": "code",
   "execution_count": 3,
   "metadata": {},
   "outputs": [
    {
     "name": "stdout",
     "output_type": "stream",
     "text": [
      "Found 1712 images belonging to 10 classes.\n",
      "Found 300 images belonging to 10 classes.\n",
      "Found 50 images belonging to 10 classes.\n"
     ]
    }
   ],
   "source": [
    "# Getting the directory iterators using ImageDataGenerator.flow_from_directory\n",
    "# As seen there are'nt a lot of images\n",
    "train_batch=ImageDataGenerator(tf.keras.applications.vgg16.preprocess_input).flow_from_directory(directory=train_path,target_size=(224,224),batch_size=10)\n",
    "valid_batch=ImageDataGenerator(tf.keras.applications.vgg16.preprocess_input).flow_from_directory(directory=valid_path,target_size=(224,224),batch_size=10)\n",
    "test_batch=ImageDataGenerator(tf.keras.applications.vgg16.preprocess_input).flow_from_directory(directory=test_path,target_size=(224,224),batch_size=10,shuffle=False)"
   ]
  },
  {
   "cell_type": "code",
   "execution_count": 4,
   "metadata": {},
   "outputs": [],
   "source": [
    "# creating the CNN network architecture\n",
    "model=Sequential([\n",
    "    Conv2D(filters=32,kernel_size=(3,3),activation='relu',padding='same',input_shape=(224,224,3)),\n",
    "    MaxPool2D(pool_size=(2,2),strides=2),\n",
    "    Conv2D(filters=48,kernel_size=(3,3),activation='relu',padding='same'),\n",
    "    MaxPool2D(pool_size=(2,2),strides=2),\n",
    "    Conv2D(filters=64,kernel_size=(3,3),activation='relu',padding='same'),\n",
    "    MaxPool2D(pool_size=(2,2),strides=2),\n",
    "    Conv2D(filters=128,kernel_size=(3,3),activation='relu',padding='same'),\n",
    "    MaxPool2D(pool_size=(2,2),strides=2),\n",
    "    Conv2D(filters=256,kernel_size=(3,3),activation='relu',padding='same'),\n",
    "    MaxPool2D(pool_size=(2,2),strides=2),\n",
    "    Flatten(),\n",
    "    Dense(units=10,activation='softmax')\n",
    "])"
   ]
  },
  {
   "cell_type": "code",
   "execution_count": 5,
   "metadata": {},
   "outputs": [
    {
     "name": "stdout",
     "output_type": "stream",
     "text": [
      "Model: \"sequential\"\n",
      "_________________________________________________________________\n",
      "Layer (type)                 Output Shape              Param #   \n",
      "=================================================================\n",
      "conv2d (Conv2D)              (None, 224, 224, 32)      896       \n",
      "_________________________________________________________________\n",
      "max_pooling2d (MaxPooling2D) (None, 112, 112, 32)      0         \n",
      "_________________________________________________________________\n",
      "conv2d_1 (Conv2D)            (None, 112, 112, 48)      13872     \n",
      "_________________________________________________________________\n",
      "max_pooling2d_1 (MaxPooling2 (None, 56, 56, 48)        0         \n",
      "_________________________________________________________________\n",
      "conv2d_2 (Conv2D)            (None, 56, 56, 64)        27712     \n",
      "_________________________________________________________________\n",
      "max_pooling2d_2 (MaxPooling2 (None, 28, 28, 64)        0         \n",
      "_________________________________________________________________\n",
      "conv2d_3 (Conv2D)            (None, 28, 28, 128)       73856     \n",
      "_________________________________________________________________\n",
      "max_pooling2d_3 (MaxPooling2 (None, 14, 14, 128)       0         \n",
      "_________________________________________________________________\n",
      "conv2d_4 (Conv2D)            (None, 14, 14, 256)       295168    \n",
      "_________________________________________________________________\n",
      "max_pooling2d_4 (MaxPooling2 (None, 7, 7, 256)         0         \n",
      "_________________________________________________________________\n",
      "flatten (Flatten)            (None, 12544)             0         \n",
      "_________________________________________________________________\n",
      "dense (Dense)                (None, 10)                125450    \n",
      "=================================================================\n",
      "Total params: 536,954\n",
      "Trainable params: 536,954\n",
      "Non-trainable params: 0\n",
      "_________________________________________________________________\n"
     ]
    }
   ],
   "source": [
    "model.summary()"
   ]
  },
  {
   "cell_type": "code",
   "execution_count": 6,
   "metadata": {},
   "outputs": [],
   "source": [
    "model.compile(optimizer=Adam(lr=0.0001),loss='categorical_crossentropy',metrics=['accuracy'])"
   ]
  },
  {
   "cell_type": "code",
   "execution_count": 7,
   "metadata": {},
   "outputs": [
    {
     "name": "stderr",
     "output_type": "stream",
     "text": [
      "/Users/sarthak/opt/anaconda3/lib/python3.7/site-packages/keras_preprocessing/image/image_data_generator.py:716: UserWarning: This ImageDataGenerator specifies `featurewise_center`, but it hasn't been fit on any training data. Fit it first by calling `.fit(numpy_data)`.\n",
      "  warnings.warn('This ImageDataGenerator specifies '\n"
     ]
    },
    {
     "name": "stdout",
     "output_type": "stream",
     "text": [
      "Train for 172 steps, validate for 30 steps\n",
      "Epoch 1/30\n"
     ]
    },
    {
     "name": "stderr",
     "output_type": "stream",
     "text": [
      "/Users/sarthak/opt/anaconda3/lib/python3.7/site-packages/keras_preprocessing/image/image_data_generator.py:716: UserWarning: This ImageDataGenerator specifies `featurewise_center`, but it hasn't been fit on any training data. Fit it first by calling `.fit(numpy_data)`.\n",
      "  warnings.warn('This ImageDataGenerator specifies '\n"
     ]
    },
    {
     "name": "stdout",
     "output_type": "stream",
     "text": [
      "172/172 - 51s - loss: 3.2646 - accuracy: 0.3645 - val_loss: 0.9338 - val_accuracy: 0.6833\n",
      "Epoch 2/30\n",
      "172/172 - 49s - loss: 0.7987 - accuracy: 0.7278 - val_loss: 0.6030 - val_accuracy: 0.7867\n",
      "Epoch 3/30\n",
      "172/172 - 47s - loss: 0.4514 - accuracy: 0.8440 - val_loss: 0.4135 - val_accuracy: 0.8867\n",
      "Epoch 4/30\n",
      "172/172 - 47s - loss: 0.2949 - accuracy: 0.9007 - val_loss: 0.4170 - val_accuracy: 0.8700\n",
      "Epoch 5/30\n",
      "172/172 - 49s - loss: 0.1648 - accuracy: 0.9492 - val_loss: 0.4701 - val_accuracy: 0.8667\n",
      "Epoch 6/30\n",
      "172/172 - 48s - loss: 0.1019 - accuracy: 0.9702 - val_loss: 0.4678 - val_accuracy: 0.8600\n",
      "Epoch 7/30\n",
      "172/172 - 48s - loss: 0.0630 - accuracy: 0.9871 - val_loss: 0.3565 - val_accuracy: 0.9133\n",
      "Epoch 8/30\n",
      "172/172 - 47s - loss: 0.0457 - accuracy: 0.9889 - val_loss: 0.5124 - val_accuracy: 0.8600\n",
      "Epoch 9/30\n",
      "172/172 - 46s - loss: 0.0210 - accuracy: 0.9977 - val_loss: 0.3191 - val_accuracy: 0.9167\n",
      "Epoch 10/30\n",
      "172/172 - 47s - loss: 0.0067 - accuracy: 1.0000 - val_loss: 0.3175 - val_accuracy: 0.9167\n",
      "Epoch 11/30\n",
      "172/172 - 48s - loss: 0.0034 - accuracy: 1.0000 - val_loss: 0.3466 - val_accuracy: 0.9167\n",
      "Epoch 12/30\n",
      "172/172 - 48s - loss: 0.0023 - accuracy: 1.0000 - val_loss: 0.3520 - val_accuracy: 0.9267\n",
      "Epoch 13/30\n",
      "172/172 - 46s - loss: 0.0017 - accuracy: 1.0000 - val_loss: 0.3488 - val_accuracy: 0.9233\n",
      "Epoch 14/30\n",
      "172/172 - 46s - loss: 0.0013 - accuracy: 1.0000 - val_loss: 0.3668 - val_accuracy: 0.9267\n",
      "Epoch 15/30\n",
      "172/172 - 48s - loss: 0.0010 - accuracy: 1.0000 - val_loss: 0.3762 - val_accuracy: 0.9233\n",
      "Epoch 16/30\n",
      "172/172 - 48s - loss: 8.2894e-04 - accuracy: 1.0000 - val_loss: 0.3813 - val_accuracy: 0.9267\n",
      "Epoch 17/30\n",
      "172/172 - 46s - loss: 6.7126e-04 - accuracy: 1.0000 - val_loss: 0.3855 - val_accuracy: 0.9267\n",
      "Epoch 18/30\n",
      "172/172 - 46s - loss: 5.6708e-04 - accuracy: 1.0000 - val_loss: 0.4002 - val_accuracy: 0.9267\n",
      "Epoch 19/30\n",
      "172/172 - 47s - loss: 4.7329e-04 - accuracy: 1.0000 - val_loss: 0.3864 - val_accuracy: 0.9267\n",
      "Epoch 20/30\n",
      "172/172 - 48s - loss: 4.0981e-04 - accuracy: 1.0000 - val_loss: 0.3989 - val_accuracy: 0.9267\n",
      "Epoch 21/30\n",
      "172/172 - 47s - loss: 3.4290e-04 - accuracy: 1.0000 - val_loss: 0.4008 - val_accuracy: 0.9267\n",
      "Epoch 22/30\n",
      "172/172 - 47s - loss: 2.8441e-04 - accuracy: 1.0000 - val_loss: 0.4074 - val_accuracy: 0.9267\n",
      "Epoch 23/30\n",
      "172/172 - 47s - loss: 2.4724e-04 - accuracy: 1.0000 - val_loss: 0.4108 - val_accuracy: 0.9267\n",
      "Epoch 24/30\n",
      "172/172 - 47s - loss: 2.1036e-04 - accuracy: 1.0000 - val_loss: 0.4155 - val_accuracy: 0.9267\n",
      "Epoch 25/30\n",
      "172/172 - 46s - loss: 1.8204e-04 - accuracy: 1.0000 - val_loss: 0.4176 - val_accuracy: 0.9267\n",
      "Epoch 26/30\n",
      "172/172 - 47s - loss: 1.5620e-04 - accuracy: 1.0000 - val_loss: 0.4161 - val_accuracy: 0.9267\n",
      "Epoch 27/30\n",
      "172/172 - 46s - loss: 1.3486e-04 - accuracy: 1.0000 - val_loss: 0.4131 - val_accuracy: 0.9267\n",
      "Epoch 28/30\n",
      "172/172 - 45s - loss: 1.1699e-04 - accuracy: 1.0000 - val_loss: 0.4159 - val_accuracy: 0.9267\n",
      "Epoch 29/30\n",
      "172/172 - 45s - loss: 1.0339e-04 - accuracy: 1.0000 - val_loss: 0.4276 - val_accuracy: 0.9267\n",
      "Epoch 30/30\n",
      "172/172 - 46s - loss: 8.7103e-05 - accuracy: 1.0000 - val_loss: 0.4120 - val_accuracy: 0.9300\n"
     ]
    },
    {
     "data": {
      "text/plain": [
       "<tensorflow.python.keras.callbacks.History at 0x7fbd7dfede50>"
      ]
     },
     "execution_count": 7,
     "metadata": {},
     "output_type": "execute_result"
    }
   ],
   "source": [
    "#training the model. The verbose parameter has been set to 2, therefore the program shows us the training and \n",
    "#validation accuracy on each step\n",
    "model.fit(x=train_batch,validation_data=valid_batch,epochs=30,verbose=2)"
   ]
  },
  {
   "cell_type": "code",
   "execution_count": 18,
   "metadata": {},
   "outputs": [
    {
     "name": "stdout",
     "output_type": "stream",
     "text": [
      "5/5 - 1s\n"
     ]
    }
   ],
   "source": [
    "#Making pred\n",
    "p=model.predict(x=test_batch,verbose=2)"
   ]
  },
  {
   "cell_type": "code",
   "execution_count": 19,
   "metadata": {},
   "outputs": [
    {
     "name": "stdout",
     "output_type": "stream",
     "text": [
      "Accuracy: 84.0\n"
     ]
    }
   ],
   "source": [
    "#finding out the accuracy of our model using confusion matrix\n",
    "cm=confusion_matrix(y_true=test_batch.classes,y_pred=np.argmax(p,axis=-1))\n",
    "print(f'Accuracy: {cm.trace()/cm.sum()*100}')"
   ]
  },
  {
   "cell_type": "code",
   "execution_count": null,
   "metadata": {},
   "outputs": [],
   "source": []
  }
 ],
 "metadata": {
  "kernelspec": {
   "display_name": "Python 3",
   "language": "python",
   "name": "python3"
  },
  "language_info": {
   "codemirror_mode": {
    "name": "ipython",
    "version": 3
   },
   "file_extension": ".py",
   "mimetype": "text/x-python",
   "name": "python",
   "nbconvert_exporter": "python",
   "pygments_lexer": "ipython3",
   "version": "3.7.4"
  }
 },
 "nbformat": 4,
 "nbformat_minor": 2
}
